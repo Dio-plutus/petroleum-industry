{
 "cells": [
  {
   "cell_type": "code",
   "execution_count": 13,
   "metadata": {},
   "outputs": [],
   "source": [
    "# importing the relavent libraries for calculation\n",
    "import pandas as pd\n",
    "import numpy as np\n",
    "import matplotlib.pyplot as plt\n",
    "%matplotlib inline"
   ]
  },
  {
   "cell_type": "code",
   "execution_count": 14,
   "metadata": {},
   "outputs": [
    {
     "data": {
      "text/html": [
       "<div>\n",
       "<style scoped>\n",
       "    .dataframe tbody tr th:only-of-type {\n",
       "        vertical-align: middle;\n",
       "    }\n",
       "\n",
       "    .dataframe tbody tr th {\n",
       "        vertical-align: top;\n",
       "    }\n",
       "\n",
       "    .dataframe thead th {\n",
       "        text-align: right;\n",
       "    }\n",
       "</style>\n",
       "<table border=\"1\" class=\"dataframe\">\n",
       "  <thead>\n",
       "    <tr style=\"text-align: right;\">\n",
       "      <th></th>\n",
       "      <th>Unnamed: 0</th>\n",
       "      <th>Unnamed: 1</th>\n",
       "    </tr>\n",
       "  </thead>\n",
       "  <tbody>\n",
       "    <tr>\n",
       "      <th>0</th>\n",
       "      <td>Sw</td>\n",
       "      <td>So</td>\n",
       "    </tr>\n",
       "    <tr>\n",
       "      <th>1</th>\n",
       "      <td>0.3</td>\n",
       "      <td>0.7</td>\n",
       "    </tr>\n",
       "    <tr>\n",
       "      <th>2</th>\n",
       "      <td>0.340833</td>\n",
       "      <td>0.659167</td>\n",
       "    </tr>\n",
       "    <tr>\n",
       "      <th>3</th>\n",
       "      <td>0.381667</td>\n",
       "      <td>0.618333</td>\n",
       "    </tr>\n",
       "    <tr>\n",
       "      <th>4</th>\n",
       "      <td>0.4225</td>\n",
       "      <td>0.5775</td>\n",
       "    </tr>\n",
       "    <tr>\n",
       "      <th>5</th>\n",
       "      <td>0.463333</td>\n",
       "      <td>0.536667</td>\n",
       "    </tr>\n",
       "    <tr>\n",
       "      <th>6</th>\n",
       "      <td>0.504167</td>\n",
       "      <td>0.495833</td>\n",
       "    </tr>\n",
       "    <tr>\n",
       "      <th>7</th>\n",
       "      <td>0.545</td>\n",
       "      <td>0.455</td>\n",
       "    </tr>\n",
       "    <tr>\n",
       "      <th>8</th>\n",
       "      <td>0.585833</td>\n",
       "      <td>0.414167</td>\n",
       "    </tr>\n",
       "    <tr>\n",
       "      <th>9</th>\n",
       "      <td>0.626667</td>\n",
       "      <td>0.373333</td>\n",
       "    </tr>\n",
       "    <tr>\n",
       "      <th>10</th>\n",
       "      <td>0.6675</td>\n",
       "      <td>0.3325</td>\n",
       "    </tr>\n",
       "    <tr>\n",
       "      <th>11</th>\n",
       "      <td>0.708334</td>\n",
       "      <td>0.291666</td>\n",
       "    </tr>\n",
       "  </tbody>\n",
       "</table>\n",
       "</div>"
      ],
      "text/plain": [
       "   Unnamed: 0 Unnamed: 1\n",
       "0          Sw         So\n",
       "1         0.3        0.7\n",
       "2    0.340833   0.659167\n",
       "3    0.381667   0.618333\n",
       "4      0.4225     0.5775\n",
       "5    0.463333   0.536667\n",
       "6    0.504167   0.495833\n",
       "7       0.545      0.455\n",
       "8    0.585833   0.414167\n",
       "9    0.626667   0.373333\n",
       "10     0.6675     0.3325\n",
       "11   0.708334   0.291666"
      ]
     },
     "execution_count": 14,
     "metadata": {},
     "output_type": "execute_result"
    }
   ],
   "source": [
    "# importing the data\n",
    "a = pd.read_excel('ex2.xlsx')\n",
    "a"
   ]
  },
  {
   "cell_type": "code",
   "execution_count": 15,
   "metadata": {},
   "outputs": [
    {
     "data": {
      "text/plain": [
       "Index(['Unnamed: 0', 'Unnamed: 1'], dtype='object')"
      ]
     },
     "execution_count": 15,
     "metadata": {},
     "output_type": "execute_result"
    }
   ],
   "source": [
    "a.columns"
   ]
  },
  {
   "cell_type": "code",
   "execution_count": 16,
   "metadata": {},
   "outputs": [
    {
     "data": {
      "text/html": [
       "<div>\n",
       "<style scoped>\n",
       "    .dataframe tbody tr th:only-of-type {\n",
       "        vertical-align: middle;\n",
       "    }\n",
       "\n",
       "    .dataframe tbody tr th {\n",
       "        vertical-align: top;\n",
       "    }\n",
       "\n",
       "    .dataframe thead th {\n",
       "        text-align: right;\n",
       "    }\n",
       "</style>\n",
       "<table border=\"1\" class=\"dataframe\">\n",
       "  <thead>\n",
       "    <tr style=\"text-align: right;\">\n",
       "      <th></th>\n",
       "      <th>Sw</th>\n",
       "      <th>So</th>\n",
       "    </tr>\n",
       "  </thead>\n",
       "  <tbody>\n",
       "    <tr>\n",
       "      <th>0</th>\n",
       "      <td>Sw</td>\n",
       "      <td>So</td>\n",
       "    </tr>\n",
       "    <tr>\n",
       "      <th>1</th>\n",
       "      <td>0.3</td>\n",
       "      <td>0.7</td>\n",
       "    </tr>\n",
       "    <tr>\n",
       "      <th>2</th>\n",
       "      <td>0.340833</td>\n",
       "      <td>0.659167</td>\n",
       "    </tr>\n",
       "    <tr>\n",
       "      <th>3</th>\n",
       "      <td>0.381667</td>\n",
       "      <td>0.618333</td>\n",
       "    </tr>\n",
       "    <tr>\n",
       "      <th>4</th>\n",
       "      <td>0.4225</td>\n",
       "      <td>0.5775</td>\n",
       "    </tr>\n",
       "    <tr>\n",
       "      <th>5</th>\n",
       "      <td>0.463333</td>\n",
       "      <td>0.536667</td>\n",
       "    </tr>\n",
       "    <tr>\n",
       "      <th>6</th>\n",
       "      <td>0.504167</td>\n",
       "      <td>0.495833</td>\n",
       "    </tr>\n",
       "    <tr>\n",
       "      <th>7</th>\n",
       "      <td>0.545</td>\n",
       "      <td>0.455</td>\n",
       "    </tr>\n",
       "    <tr>\n",
       "      <th>8</th>\n",
       "      <td>0.585833</td>\n",
       "      <td>0.414167</td>\n",
       "    </tr>\n",
       "    <tr>\n",
       "      <th>9</th>\n",
       "      <td>0.626667</td>\n",
       "      <td>0.373333</td>\n",
       "    </tr>\n",
       "    <tr>\n",
       "      <th>10</th>\n",
       "      <td>0.6675</td>\n",
       "      <td>0.3325</td>\n",
       "    </tr>\n",
       "    <tr>\n",
       "      <th>11</th>\n",
       "      <td>0.708334</td>\n",
       "      <td>0.291666</td>\n",
       "    </tr>\n",
       "  </tbody>\n",
       "</table>\n",
       "</div>"
      ],
      "text/plain": [
       "0         Sw        So\n",
       "0         Sw        So\n",
       "1        0.3       0.7\n",
       "2   0.340833  0.659167\n",
       "3   0.381667  0.618333\n",
       "4     0.4225    0.5775\n",
       "5   0.463333  0.536667\n",
       "6   0.504167  0.495833\n",
       "7      0.545     0.455\n",
       "8   0.585833  0.414167\n",
       "9   0.626667  0.373333\n",
       "10    0.6675    0.3325\n",
       "11  0.708334  0.291666"
      ]
     },
     "execution_count": 16,
     "metadata": {},
     "output_type": "execute_result"
    }
   ],
   "source": [
    "a.columns = a.iloc[0]\n",
    "a.columns\n",
    "a"
   ]
  },
  {
   "cell_type": "code",
   "execution_count": 17,
   "metadata": {},
   "outputs": [],
   "source": [
    "a = a.drop(a.index[0])\n"
   ]
  },
  {
   "cell_type": "code",
   "execution_count": 18,
   "metadata": {},
   "outputs": [
    {
     "data": {
      "text/plain": [
       "array([0.3       , 0.34083333, 0.38166667, 0.4225    , 0.46333333,\n",
       "       0.50416667, 0.545     , 0.58583333, 0.62666667, 0.6675    ,\n",
       "       0.70833433])"
      ]
     },
     "execution_count": 18,
     "metadata": {},
     "output_type": "execute_result"
    }
   ],
   "source": [
    "#converting columns into array\n",
    "sw = np.array(a['Sw'])\n",
    "sw = sw.astype('float')\n",
    "sw"
   ]
  },
  {
   "cell_type": "code",
   "execution_count": 19,
   "metadata": {},
   "outputs": [
    {
     "data": {
      "text/plain": [
       "array([0.        , 0.06282051, 0.12564103, 0.18846154, 0.25128205,\n",
       "       0.31410256, 0.37692308, 0.43974359, 0.5025641 , 0.56538462,\n",
       "       0.62820667])"
      ]
     },
     "execution_count": 19,
     "metadata": {},
     "output_type": "execute_result"
    }
   ],
   "source": [
    "# formula for swe = (sw - swr)/(1-swr-snr)\n",
    "# swr=0.3\n",
    "#snr = 0.05\n",
    "\n",
    "w = 1-0.3-0.05\n",
    "swe = (sw - 0.3)/w\n",
    "swe\n"
   ]
  },
  {
   "cell_type": "code",
   "execution_count": 20,
   "metadata": {},
   "outputs": [
    {
     "data": {
      "text/plain": [
       "array([1.        , 0.87829171, 0.76431311, 0.65776385, 0.55834354,\n",
       "       0.46587594, 0.38038886, 0.30214985, 0.23165763, 0.16958925,\n",
       "       0.1167018 ])"
      ]
     },
     "execution_count": 20,
     "metadata": {},
     "output_type": "execute_result"
    }
   ],
   "source": [
    "#krn = ((1-swe)^2)*(1-swe^4)\n",
    "krnDr = ((1-swe)**2)*(1-swe**4)\n",
    "krnDr\n"
   ]
  },
  {
   "cell_type": "code",
   "execution_count": 21,
   "metadata": {},
   "outputs": [
    {
     "data": {
      "text/plain": [
       "array([ 1.00000000e+00,  8.99999919e-01,  7.99999836e-01,  6.99999755e-01,\n",
       "        5.99999674e-01,  4.99999591e-01,  3.99999510e-01,  2.99999429e-01,\n",
       "        1.99999346e-01,  9.99992653e-02, -3.26449246e-06])"
      ]
     },
     "execution_count": 21,
     "metadata": {},
     "output_type": "execute_result"
    }
   ],
   "source": [
    "# coverting all oil saturation into array\n",
    "so = np.array(a['So'])\n",
    "so = so.astype('float')\n",
    "# k_(r,nw)^Im (S_nw )= k_(r,nw)^Dr (S_nwi )* [(S_nw-S_nwt)/(S_nwi-S_nwt )]^β\n",
    "# b =[(S_nw-S_nwt)/(S_nwi-S_nwt )]\n",
    "# β = 1.5\n",
    "b = (so-0.291667)/(0.7-0.291667)\n",
    "b"
   ]
  },
  {
   "cell_type": "code",
   "execution_count": 32,
   "metadata": {},
   "outputs": [
    {
     "name": "stderr",
     "output_type": "stream",
     "text": [
      "C:\\Users\\ADMIN\\anaconda3\\lib\\site-packages\\ipykernel_launcher.py:1: RuntimeWarning: invalid value encountered in power\n",
      "  \"\"\"Entry point for launching an IPython kernel.\n"
     ]
    },
    {
     "data": {
      "text/plain": [
       "array([1.        , 0.75135707, 0.54381156, 0.38653673, 0.26026427,\n",
       "       0.16616989, 0.09613306, 0.04929489, 0.02057172, 0.00537581,\n",
       "       0.        ])"
      ]
     },
     "execution_count": 32,
     "metadata": {},
     "output_type": "execute_result"
    }
   ],
   "source": [
    "krnIm = (b**1.5)*krnDr\n",
    "krnIm[10]=0\n",
    "krnIm"
   ]
  },
  {
   "cell_type": "code",
   "execution_count": 33,
   "metadata": {},
   "outputs": [
    {
     "data": {
      "text/plain": [
       "Text(0, 0.5, 'Relative Permeability')"
      ]
     },
     "execution_count": 33,
     "metadata": {},
     "output_type": "execute_result"
    },
    {
     "data": {
      "image/png": "[encoded data removed]",
      "text/plain": [
       "<Figure size 640x480 with 1 Axes>"
      ]
     },
     "metadata": {},
     "output_type": "display_data"
    }
   ],
   "source": [
    "#plotting the graph relative permeability vs saturation\n",
    "plt.style.use('default')\n",
    "plt.plot(sw,krnDr,label='krnDr')\n",
    "plt.plot(sw,krnIm,label='krnIm')\n",
    "plt.legend()\n",
    "plt.grid(True)\n",
    "plt.xlabel('Sw')\n",
    "plt.ylabel('Relative Permeability')"
   ]
  },
  {
   "cell_type": "code",
   "execution_count": 34,
   "metadata": {},
   "outputs": [],
   "source": [
    "# truncating the value upto 2 decimal\n",
    "swe = np.around(swe,2)\n",
    "krnDr = np.around(krnDr,2)\n",
    "krnIm = np.around(krnIm,2)\n",
    "a['Swe'] = swe\n",
    "a['KrnDr'] = krnDr\n",
    "a['KrnIm'] = krnIm"
   ]
  },
  {
   "cell_type": "code",
   "execution_count": 35,
   "metadata": {},
   "outputs": [
    {
     "data": {
      "text/html": [
       "<div>\n",
       "<style scoped>\n",
       "    .dataframe tbody tr th:only-of-type {\n",
       "        vertical-align: middle;\n",
       "    }\n",
       "\n",
       "    .dataframe tbody tr th {\n",
       "        vertical-align: top;\n",
       "    }\n",
       "\n",
       "    .dataframe thead th {\n",
       "        text-align: right;\n",
       "    }\n",
       "</style>\n",
       "<table border=\"1\" class=\"dataframe\">\n",
       "  <thead>\n",
       "    <tr style=\"text-align: right;\">\n",
       "      <th></th>\n",
       "      <th>Sw</th>\n",
       "      <th>So</th>\n",
       "      <th>Swe</th>\n",
       "      <th>KrnDr</th>\n",
       "      <th>KrnIm</th>\n",
       "    </tr>\n",
       "  </thead>\n",
       "  <tbody>\n",
       "    <tr>\n",
       "      <th>1</th>\n",
       "      <td>0.300000</td>\n",
       "      <td>0.700000</td>\n",
       "      <td>0.00</td>\n",
       "      <td>1.00</td>\n",
       "      <td>1.00</td>\n",
       "    </tr>\n",
       "    <tr>\n",
       "      <th>2</th>\n",
       "      <td>0.340833</td>\n",
       "      <td>0.659167</td>\n",
       "      <td>0.06</td>\n",
       "      <td>0.88</td>\n",
       "      <td>0.75</td>\n",
       "    </tr>\n",
       "    <tr>\n",
       "      <th>3</th>\n",
       "      <td>0.381667</td>\n",
       "      <td>0.618333</td>\n",
       "      <td>0.13</td>\n",
       "      <td>0.76</td>\n",
       "      <td>0.54</td>\n",
       "    </tr>\n",
       "    <tr>\n",
       "      <th>4</th>\n",
       "      <td>0.422500</td>\n",
       "      <td>0.577500</td>\n",
       "      <td>0.19</td>\n",
       "      <td>0.66</td>\n",
       "      <td>0.39</td>\n",
       "    </tr>\n",
       "    <tr>\n",
       "      <th>5</th>\n",
       "      <td>0.463333</td>\n",
       "      <td>0.536667</td>\n",
       "      <td>0.25</td>\n",
       "      <td>0.56</td>\n",
       "      <td>0.26</td>\n",
       "    </tr>\n",
       "    <tr>\n",
       "      <th>6</th>\n",
       "      <td>0.504167</td>\n",
       "      <td>0.495833</td>\n",
       "      <td>0.31</td>\n",
       "      <td>0.47</td>\n",
       "      <td>0.17</td>\n",
       "    </tr>\n",
       "    <tr>\n",
       "      <th>7</th>\n",
       "      <td>0.545000</td>\n",
       "      <td>0.455000</td>\n",
       "      <td>0.38</td>\n",
       "      <td>0.38</td>\n",
       "      <td>0.10</td>\n",
       "    </tr>\n",
       "    <tr>\n",
       "      <th>8</th>\n",
       "      <td>0.585833</td>\n",
       "      <td>0.414167</td>\n",
       "      <td>0.44</td>\n",
       "      <td>0.30</td>\n",
       "      <td>0.05</td>\n",
       "    </tr>\n",
       "    <tr>\n",
       "      <th>9</th>\n",
       "      <td>0.626667</td>\n",
       "      <td>0.373333</td>\n",
       "      <td>0.50</td>\n",
       "      <td>0.23</td>\n",
       "      <td>0.02</td>\n",
       "    </tr>\n",
       "    <tr>\n",
       "      <th>10</th>\n",
       "      <td>0.667500</td>\n",
       "      <td>0.332500</td>\n",
       "      <td>0.57</td>\n",
       "      <td>0.17</td>\n",
       "      <td>0.01</td>\n",
       "    </tr>\n",
       "    <tr>\n",
       "      <th>11</th>\n",
       "      <td>0.708334</td>\n",
       "      <td>0.291666</td>\n",
       "      <td>0.63</td>\n",
       "      <td>0.12</td>\n",
       "      <td>0.00</td>\n",
       "    </tr>\n",
       "  </tbody>\n",
       "</table>\n",
       "</div>"
      ],
      "text/plain": [
       "0         Sw        So   Swe  KrnDr  KrnIm\n",
       "1   0.300000  0.700000  0.00   1.00   1.00\n",
       "2   0.340833  0.659167  0.06   0.88   0.75\n",
       "3   0.381667  0.618333  0.13   0.76   0.54\n",
       "4   0.422500  0.577500  0.19   0.66   0.39\n",
       "5   0.463333  0.536667  0.25   0.56   0.26\n",
       "6   0.504167  0.495833  0.31   0.47   0.17\n",
       "7   0.545000  0.455000  0.38   0.38   0.10\n",
       "8   0.585833  0.414167  0.44   0.30   0.05\n",
       "9   0.626667  0.373333  0.50   0.23   0.02\n",
       "10  0.667500  0.332500  0.57   0.17   0.01\n",
       "11  0.708334  0.291666  0.63   0.12   0.00"
      ]
     },
     "execution_count": 35,
     "metadata": {},
     "output_type": "execute_result"
    }
   ],
   "source": [
    "a"
   ]
  },
  {
   "cell_type": "code",
   "execution_count": 36,
   "metadata": {},
   "outputs": [],
   "source": [
    "a = a.fillna(0)"
   ]
  },
  {
   "cell_type": "code",
   "execution_count": 38,
   "metadata": {},
   "outputs": [],
   "source": [
    "#for reversal flow \n",
    "# ploting the trapped non-wetting phase saturation along flow reversal saturation.\n",
    "d = [ 0.0]\n",
    "for i in d:\n",
    "    if i < 0.9:\n",
    "        i = i + 0.1\n",
    "        d.append(i)\n",
    "Rswni = np.array(d)"
   ]
  },
  {
   "cell_type": "code",
   "execution_count": 39,
   "metadata": {},
   "outputs": [
    {
     "data": {
      "text/plain": [
       "array([0.        , 0.08333333, 0.14285714, 0.1875    , 0.22222222,\n",
       "       0.25      , 0.27272727, 0.29166667, 0.30769231, 0.32142857,\n",
       "       0.33333333])"
      ]
     },
     "execution_count": 39,
     "metadata": {},
     "output_type": "execute_result"
    }
   ],
   "source": [
    "Rswnt = Rswni/(1+2*Rswni)\n",
    "Rswnt"
   ]
  },
  {
   "cell_type": "code",
   "execution_count": 40,
   "metadata": {},
   "outputs": [
    {
     "data": {
      "text/plain": [
       "Text(0, 0.5, 'Swnt')"
      ]
     },
     "execution_count": 40,
     "metadata": {},
     "output_type": "execute_result"
    },
    {
     "data": {
      "image/png": "[encoded data removed]",
      "text/plain": [
       "<Figure size 640x480 with 1 Axes>"
      ]
     },
     "metadata": {},
     "output_type": "display_data"
    }
   ],
   "source": [
    "# plotting the Swnt VS Swni\n",
    "plt.style.use('default')\n",
    "plt.plot(Rswni,Rswnt)\n",
    "plt.grid(True)\n",
    "plt.xlabel('Swni')\n",
    "plt.ylabel('Swnt')"
   ]
  },
  {
   "cell_type": "code",
   "execution_count": null,
   "metadata": {},
   "outputs": [],
   "source": []
  }
 ],
 "metadata": {
  "kernelspec": {
   "display_name": "Python 3",
   "language": "python",
   "name": "python3"
  },
  "language_info": {
   "codemirror_mode": {
    "name": "ipython",
    "version": 3
   },
   "file_extension": ".py",
   "mimetype": "text/x-python",
   "name": "python",
   "nbconvert_exporter": "python",
   "pygments_lexer": "ipython3",
   "version": "3.7.6"
  }
 },
 "nbformat": 4,
 "nbformat_minor": 4
}
