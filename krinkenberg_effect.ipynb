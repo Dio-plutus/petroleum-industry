{
  "nbformat": 4,
  "nbformat_minor": 0,
  "metadata": {
    "colab": {
      "name": "krinkenberg effect.ipynb",
      "provenance": [],
      "authorship_tag": "ABX9TyNvCXh8HwPh8nK83YI62uJy",
      "include_colab_link": true
    },
    "kernelspec": {
      "name": "python3",
      "display_name": "Python 3"
    }
  },
  "cells": [
    {
      "cell_type": "markdown",
      "metadata": {
        "id": "view-in-github",
        "colab_type": "text"
      },
      "source": [
        "<a href=\"https://colab.research.google.com/github/dhruvikj/petroleum-industry/blob/master/krinkenberg_effect.ipynb\" target=\"_parent\"><img src=\"https://colab.research.google.com/assets/colab-badge.svg\" alt=\"Open In Colab\"/></a>"
      ]
    },
    {
      "cell_type": "markdown",
      "metadata": {
        "id": "4zs2sxNLboOz"
      },
      "source": [
        "\n",
        "**The Klinkenberg Effect**\n",
        "\n",
        "k(g) = k(l) + c(1/pm)\n",
        "\n",
        "kg = measured gas permeability pm = mean pressure kL = equivalent liquid permeability, i.e., absolute permeability, k c = slope of the line\n",
        "\n",
        "1. c = b.k(l) = 6.9 kL^(-0.36)\n",
        "\n",
        "2. 6.9kL^(0.64) + pmkL - pm*kg = 0\n",
        "\n",
        "**Procedure/Algorithm :-**\n",
        "\n",
        "Equation 2 can be used to calculate the absolute permeability when only one gas permeability measurement (kg) of a core sample is made at pm. This nonlinear equation can be solved iteratively by using the Newton-Raphson iterative methods. The proposed solution method can be conveniently written as\n",
        "\n",
        "k(i+1) = k(i) - f(ki)/f'(ki)\n",
        "\n",
        "where ki = initial guess of the absolute permeability, md ki+1 = new permeability value to be used for the next iteration i = iteration level f(ki) = Equation 3 f'(ki) = first-derivative of Equation 3\n",
        "\n",
        "f'(ki) = 4.416 ki^(-0.36) + pm\n",
        "\n",
        "The iterative procedure is repeated until convergence is achieved when f(ki) approaches zero or when no changes in the calculated values of ki are observed.\n",
        "\n",
        "(Courtsey- Tarek Ahmed)\n",
        "\n",
        "**Example :-**\n",
        "\n",
        "The permeability of a core plug is measured by air. Only one measurement is made at a mean pressure of 2.152 psi. The air permeability is 46.6 md. Estimate the absolute permeability of the core sample. Compare the result with the actual absolute permeability of 23.66 md.\n",
        "\n",
        "The Newton-Raphson method converges to an\n",
        "absolute value for the permeability of 22.848 md.\n"
      ]
    },
    {
      "cell_type": "code",
      "metadata": {
        "id": "2kzr0se_nXMn",
        "colab": {
          "base_uri": "https://localhost:8080/"
        },
        "outputId": "3611e259-5126-4534-8881-4abe7fe2152d"
      },
      "source": [
        "k = input('enter the intial guess of absolute permeability (md) :- ')\n",
        "k = float(k)\n",
        "\n",
        "pm = float(input('enter the mean pressure (psi) :- '))\n",
        "\n",
        "kg = float(input('enter the air permeability (md) :- '))\n",
        "\n",
        "kp = 0\n",
        "while abs(k-kp) > 0.01:\n",
        "    kp = k\n",
        "    k = k - (6.9*(k**0.64) + pm*k - pm*kg)/(4.416*(k**(-0.36)) + pm)\n",
        "\n",
        "print(f\"The absolute permeability is :- {k} md \")"
      ],
      "execution_count": 6,
      "outputs": [
        {
          "output_type": "stream",
          "text": [
            "enter the intial guess of absolute permeability (md) :- 100\n",
            "enter the mean pressure (psi) :- 2.152\n",
            "enter the air permeability (md) :- 46.6\n",
            "The absolute permeability is :- 22.849002279467825 md \n"
          ],
          "name": "stdout"
        }
      ]
    }
  ]
}